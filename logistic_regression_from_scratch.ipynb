{
  "cells": [
    {
      "cell_type": "markdown",
      "metadata": {
        "id": "eOJSuDiPeses"
      },
      "source": [
        "# Logistic regression from scratch"
      ]
    },
    {
      "cell_type": "markdown",
      "metadata": {
        "id": "XeKTGKmoese4"
      },
      "source": [
        "In this tutorial, we explain how logistic regression works and try to implement it in plain Numpy.\n",
        "Logistic regression is a supervised learning classification algorithm, which means it can estimate the class of\n",
        "new observation based on labeled observations."
      ]
    },
    {
      "cell_type": "code",
      "execution_count": null,
      "metadata": {
        "id": "6ypIy_5tese5"
      },
      "outputs": [],
      "source": [
        "import numpy as np\n",
        "import matplotlib.pyplot as plt\n",
        "from sklearn.linear_model import LogisticRegression\n",
        "from sklearn.datasets import make_classification\n",
        "%matplotlib inline"
      ]
    },
    {
      "cell_type": "markdown",
      "metadata": {
        "id": "lXpRUAp3ese8"
      },
      "source": [
        "## Create a dataset"
      ]
    },
    {
      "cell_type": "markdown",
      "metadata": {
        "id": "HF4DZxZpese8"
      },
      "source": [
        "Let's apply logistic regression to a binary classification problem with only 10 observations and 2 features."
      ]
    },
    {
      "cell_type": "code",
      "execution_count": null,
      "metadata": {
        "colab": {
          "base_uri": "https://localhost:8080/"
        },
        "id": "8JBQc1m-ese9",
        "outputId": "08730ae1-c6a8-48a0-eb48-3806ec75476e"
      },
      "outputs": [
        {
          "output_type": "stream",
          "name": "stdout",
          "text": [
            "[[-0.64185521  0.78535215]\n",
            " [ 0.10972634  1.83671408]\n",
            " [-1.07362634  2.591487  ]\n",
            " [-1.38222372  0.85340843]\n",
            " [ 1.78689446  2.3841826 ]\n",
            " [ 0.94785273  3.53015683]\n",
            " [ 1.08876018  1.35925144]\n",
            " [ 0.42774158  3.54015499]\n",
            " [-0.88398194 -0.57876171]\n",
            " [-1.59347411  1.2168913 ]]\n",
            "[1 0 1 1 0 0 0 0 1 1]\n"
          ]
        }
      ],
      "source": [
        "X, y = make_classification(\n",
        "        n_samples=10,\n",
        "        n_features=2,\n",
        "        n_redundant=0,\n",
        "        n_informative=2,\n",
        "        random_state=1,\n",
        "        n_clusters_per_class=1)\n",
        "print(X)\n",
        "print(y)"
      ]
    },
    {
      "cell_type": "code",
      "execution_count": null,
      "metadata": {
        "colab": {
          "base_uri": "https://localhost:8080/",
          "height": 469
        },
        "id": "O7vwXDApesfA",
        "outputId": "952e0f4d-a89c-4b5b-fad7-b682ba85d818"
      },
      "outputs": [
        {
          "output_type": "execute_result",
          "data": {
            "text/plain": [
              "Text(0, 0.5, '$X_2$')"
            ]
          },
          "metadata": {},
          "execution_count": 18
        },
        {
          "output_type": "display_data",
          "data": {
            "text/plain": [
              "<Figure size 640x480 with 1 Axes>"
            ],
            "image/png": "[encoded data removed]"
          },
          "metadata": {}
        }
      ],
      "source": [
        "plt.scatter(X[:, 0], X[:, 1], c=y.ravel(), s=40, cmap=plt.cm.Spectral)\n",
        "plt.xlabel(\"$X_1$\")\n",
        "plt.ylabel(\"$X_2$\")\n",
        "# blue dots = 1, red dots = 0"
      ]
    },
    {
      "cell_type": "markdown",
      "metadata": {
        "id": "rhSfAvaxesfB"
      },
      "source": [
        "We have 10 observations $X$ with 2 features $\\theta$ and we know their labels $y$. Can we predict the label of a new observation?"
      ]
    },
    {
      "cell_type": "markdown",
      "metadata": {
        "id": "LeROavvsesfB"
      },
      "source": [
        "## Logistic regression"
      ]
    },
    {
      "cell_type": "markdown",
      "metadata": {
        "id": "bGR_CC4vesfC"
      },
      "source": [
        "Logistic regression models the probability that an observation belongs to a particular category.\n",
        "To generate these probabilities, logistic regression uses the **sigmoid** function. This function maps a real number to a values between 0 and 1.\n",
        "\\begin{equation}\n",
        "g(z) = \\frac{1}{1+e^{-z}}\n",
        "\\end{equation}"
      ]
    },
    {
      "cell_type": "markdown",
      "metadata": {
        "id": "W39dXZGeesfD"
      },
      "source": [
        "\n",
        "![image.png](data:image/png;base64,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)"
      ]
    },
    {
      "cell_type": "markdown",
      "metadata": {
        "id": "0W-DyoZqesfD"
      },
      "source": [
        "We can then define our hypothesis as follows, $h(X) = g(X \\theta)$\n",
        "where\n",
        "- $\\theta$ is the coefficient vector\n",
        "- $X$ is the vector of all the observations (to which we added the intercept i.e. a column of ones)\n",
        "\n",
        "$h(X)$ gives us the probability that our output is 1, which means\n",
        "- if $ X \\theta \\geqslant 0 $, then $h(X) \\geqslant 0.5$, then predict $y = 1$\n",
        "- if $ X \\theta < 0 $, then $h(X) < 0.5$, then predict $y = 0$"
      ]
    },
    {
      "cell_type": "code",
      "execution_count": null,
      "metadata": {
        "colab": {
          "base_uri": "https://localhost:8080/"
        },
        "id": "tRhihi01esfD",
        "outputId": "2c152876-c5d9-407a-ee54-2967cf163108"
      },
      "outputs": [
        {
          "output_type": "stream",
          "name": "stdout",
          "text": [
            "[[ 1.         -0.64185521  0.78535215]\n",
            " [ 1.          0.10972634  1.83671408]\n",
            " [ 1.         -1.07362634  2.591487  ]\n",
            " [ 1.         -1.38222372  0.85340843]\n",
            " [ 1.          1.78689446  2.3841826 ]\n",
            " [ 1.          0.94785273  3.53015683]\n",
            " [ 1.          1.08876018  1.35925144]\n",
            " [ 1.          0.42774158  3.54015499]\n",
            " [ 1.         -0.88398194 -0.57876171]\n",
            " [ 1.         -1.59347411  1.2168913 ]]\n",
            "[0. 0. 0.]\n",
            "[0.5 0.5 0.5 0.5 0.5 0.5 0.5 0.5 0.5 0.5]\n"
          ]
        }
      ],
      "source": [
        "def add_intercept(X):\n",
        "    intercept = np.ones((X.shape[0], 1))\n",
        "    return np.concatenate((intercept, X), axis=1)\n",
        "\n",
        "def sigmoid(z):\n",
        "    return 1 / (1 + np.exp(-z))\n",
        "\n",
        "def calc_h(X, theta):\n",
        "    z = np.dot(X, theta)\n",
        "    h = sigmoid(z)\n",
        "    return h\n",
        "\n",
        "XX = add_intercept(X)\n",
        "theta = np.zeros(XX.shape[1])\n",
        "h = calc_h(XX, theta)\n",
        "\n",
        "print(XX)\n",
        "print(theta)\n",
        "print(h)"
      ]
    },
    {
      "cell_type": "markdown",
      "metadata": {
        "id": "c3ZObCHUesfE"
      },
      "source": [
        "# Loss function"
      ]
    },
    {
      "cell_type": "markdown",
      "metadata": {
        "id": "AoqlRIHpesfF"
      },
      "source": [
        "The loss function of logistic regression is defined as follows,\n",
        "\\begin{equation}\n",
        "J(\\theta) = \\frac{1}{m}(-y \\log(h) - (1 - y) \\log(1 - h))\n",
        "\\end{equation}\n",
        "where $m$ is the number of observations.\n",
        "\n",
        "This loss function penalises mis-classified observations. For example,\n",
        "- if $y=0$ and $h\\rightarrow 1$, then $J(\\theta)\\rightarrow ∞$  (strong penalty)\n",
        "- if $y=0$ and $h\\rightarrow 0$, then $J(\\theta)\\rightarrow 0$  (small penalty)\n",
        "- if $y=1$ and $h\\rightarrow 0$, then $J(\\theta)\\rightarrow ∞$  (strong penalty)\n",
        "- if $y=1$ and $h\\rightarrow 1$, then $J(\\theta)\\rightarrow 0$  (small penalty)"
      ]
    },
    {
      "cell_type": "code",
      "execution_count": null,
      "metadata": {
        "colab": {
          "base_uri": "https://localhost:8080/"
        },
        "id": "UwtYPqNAesfG",
        "outputId": "fddf9a4d-d3ab-4481-d479-c35d79131a0b"
      },
      "outputs": [
        {
          "output_type": "stream",
          "name": "stdout",
          "text": [
            "0.6931471805599453\n"
          ]
        }
      ],
      "source": [
        "cost = (-y * np.log(h) - (1 - y) * np.log(1 - h)).mean()\n",
        "print(cost)"
      ]
    },
    {
      "cell_type": "markdown",
      "metadata": {
        "id": "aS34zjF_esfH"
      },
      "source": [
        "## Gradient descent"
      ]
    },
    {
      "cell_type": "markdown",
      "metadata": {
        "id": "irIHFOx6esfH"
      },
      "source": [
        "In order to get an accurate prediction, we need to minimise the loss function $J(\\theta)$. This is done by\n",
        "fitting the coefficients $\\theta$. This is done by computing the derivative of the loss function with respect to each coefficient $\\theta$. This gradient is an indication of how much the loss would vary if we change the coefficient. This is known as the method of the *Gradient Descent*.\n",
        "\\begin{equation}\n",
        "\\theta_j := \\theta_j - \\alpha \\frac{\\partial J(\\theta)}{\\partial \\theta_j}\n",
        "\\end{equation}\n",
        "where $\\alpha$ is the learning rate.\n",
        "\n",
        "We can show that\n",
        "\\begin{equation}\n",
        "\\frac{\\partial J(\\theta)}{\\partial \\theta_j} = \\frac{1}{m} X^T (h - y)\n",
        "\\end{equation}"
      ]
    },
    {
      "cell_type": "code",
      "execution_count": null,
      "metadata": {
        "colab": {
          "base_uri": "https://localhost:8080/"
        },
        "id": "ef6qTUdWesfI",
        "outputId": "ee402c5f-8f17-4427-933d-46d03d15145a"
      },
      "outputs": [
        {
          "output_type": "stream",
          "name": "stdout",
          "text": [
            "[0.         0.49680683 0.38910414]\n",
            "[ 0.         -0.00496807 -0.00389104]\n"
          ]
        }
      ],
      "source": [
        "m = y.size\n",
        "alpha = 0.01\n",
        "\n",
        "gradient = np.dot(XX.T, (h - y)) / m\n",
        "theta -= alpha * gradient\n",
        "\n",
        "print(gradient)\n",
        "print(theta)"
      ]
    },
    {
      "cell_type": "markdown",
      "metadata": {
        "id": "7n3Wbe1nesfI"
      },
      "source": [
        "## Training the model"
      ]
    },
    {
      "cell_type": "markdown",
      "metadata": {
        "id": "nLPHft2eesfI"
      },
      "source": [
        "We need to repeat these steps in order to fit the coefficients."
      ]
    },
    {
      "cell_type": "code",
      "execution_count": null,
      "metadata": {
        "colab": {
          "base_uri": "https://localhost:8080/"
        },
        "id": "7YBEc5ZhesfJ",
        "outputId": "e65748be-8a1f-4872-af93-353cdc88a7b2"
      },
      "outputs": [
        {
          "output_type": "stream",
          "name": "stdout",
          "text": [
            "Cost: 0.6891798102118079\n",
            "Cost: 0.029018963792119053\n",
            "Cost: 0.01686836306295252\n",
            "Cost: 0.011987504873922989\n",
            "Cost: 0.00931561356220478\n",
            "Cost: 0.007622970166495642\n",
            "Cost: 0.006452771930733887\n",
            "Cost: 0.005594848380972046\n",
            "Cost: 0.00493866575865457\n",
            "Cost: 0.004420439107974004\n",
            "Adjusted coefficient: [ 0.66203066 -8.49512412 -1.97751376]\n"
          ]
        }
      ],
      "source": [
        "num_iter = 100000\n",
        "cost_list = []\n",
        "\n",
        "for i in range(num_iter):\n",
        "    h = calc_h(XX, theta)\n",
        "    cost = (-y * np.log(h) - (1 - y) * np.log(1 - h)).mean()\n",
        "    cost_list.append(cost)\n",
        "\n",
        "    gradient = np.dot(XX.T, (h - y)) / m\n",
        "    theta -= alpha * gradient\n",
        "\n",
        "\n",
        "    if i % 10000 == 0:\n",
        "        print('Cost: {}'.format(cost))\n",
        "\n",
        "print('Adjusted coefficient: {}'.format(theta))"
      ]
    },
    {
      "cell_type": "markdown",
      "metadata": {
        "id": "wJ4iVFwgesfJ"
      },
      "source": [
        "## Plot the loss function"
      ]
    },
    {
      "cell_type": "code",
      "execution_count": null,
      "metadata": {
        "colab": {
          "base_uri": "https://localhost:8080/",
          "height": 447
        },
        "id": "C4B8w_uXesfJ",
        "outputId": "78525fe8-86b8-4228-829e-b1744c930054"
      },
      "outputs": [
        {
          "output_type": "execute_result",
          "data": {
            "text/plain": [
              "[<matplotlib.lines.Line2D at 0x7da0f05a5930>]"
            ]
          },
          "metadata": {},
          "execution_count": 10
        },
        {
          "output_type": "display_data",
          "data": {
            "text/plain": [
              "<Figure size 640x480 with 1 Axes>"
            ],
            "image/png": "[encoded data removed]"
          },
          "metadata": {}
        }
      ],
      "source": [
        "plt.plot(range(num_iter), cost_list)"
      ]
    },
    {
      "cell_type": "markdown",
      "metadata": {
        "id": "adovwuEsesfK"
      },
      "source": [
        "The loss fonction is decreasing, which is a good sign."
      ]
    },
    {
      "cell_type": "markdown",
      "metadata": {
        "id": "ljoAFLtnesfK"
      },
      "source": [
        "## Making predictions"
      ]
    },
    {
      "cell_type": "markdown",
      "metadata": {
        "id": "v-1YDMIkesfK"
      },
      "source": [
        "We can then calculate the prediction probabilities output by the sigmoid function for each observation."
      ]
    },
    {
      "cell_type": "code",
      "execution_count": null,
      "metadata": {
        "colab": {
          "base_uri": "https://localhost:8080/"
        },
        "id": "NtS0eUaFesfK",
        "outputId": "fb826c25-62d7-49b9-f730-37dfe40406ef"
      },
      "outputs": [
        {
          "output_type": "stream",
          "name": "stdout",
          "text": [
            "[9.89662906e-01 1.97968770e-02 9.90602955e-01 9.99977826e-01\n",
            " 4.43999108e-09 5.73774026e-07 1.26852162e-05 4.66685994e-05\n",
            " 9.99910042e-01 9.99992438e-01]\n"
          ]
        }
      ],
      "source": [
        "preds_prob = calc_h(XX, theta)\n",
        "print(preds_prob)"
      ]
    },
    {
      "cell_type": "markdown",
      "metadata": {
        "id": "Mr3tzxfFesfL"
      },
      "source": [
        "As we have seen earlier, the decision boundary of the sigmoid function is defined at 0.5. We can round the probabilities to assign the predicted class to each observation."
      ]
    },
    {
      "cell_type": "code",
      "execution_count": null,
      "metadata": {
        "colab": {
          "base_uri": "https://localhost:8080/"
        },
        "id": "BXNOu_SpesfL",
        "outputId": "774176a0-a55f-4688-dfa3-d3e2a0688265"
      },
      "outputs": [
        {
          "output_type": "stream",
          "name": "stdout",
          "text": [
            "[1. 0. 1. 1. 0. 0. 0. 0. 1. 1.]\n"
          ]
        }
      ],
      "source": [
        "preds = preds_prob.round()\n",
        "print(preds)"
      ]
    },
    {
      "cell_type": "markdown",
      "metadata": {
        "id": "8FGsZYtDesfL"
      },
      "source": [
        "Finally, we can calculate the training accuracy score."
      ]
    },
    {
      "cell_type": "code",
      "execution_count": null,
      "metadata": {
        "colab": {
          "base_uri": "https://localhost:8080/"
        },
        "id": "v-5YIxdcesfM",
        "outputId": "d77e3409-e477-4d45-ffc2-f5a7c7ceca02"
      },
      "outputs": [
        {
          "output_type": "stream",
          "name": "stdout",
          "text": [
            "Score Numpy: 1.0\n"
          ]
        }
      ],
      "source": [
        "score_numpy = (preds == y).mean()\n",
        "print('Score Numpy: {}'.format(score_numpy))"
      ]
    },
    {
      "cell_type": "markdown",
      "metadata": {
        "id": "xDFIgZddesfM"
      },
      "source": [
        "This training score is not a very good indicator of the accuracy of our model since we trained it using the same labels $y$. Let's see how the model perform on an unseen observation."
      ]
    },
    {
      "cell_type": "code",
      "execution_count": null,
      "metadata": {
        "colab": {
          "base_uri": "https://localhost:8080/"
        },
        "id": "JGLzRDqUesfM",
        "outputId": "98ede18f-37dc-4b48-bc21-91cf66d2809f"
      },
      "outputs": [
        {
          "output_type": "stream",
          "name": "stdout",
          "text": [
            "[ 1.  -0.8  0.8]\n",
            "predicted output for the new observation:  1.0\n"
          ]
        }
      ],
      "source": [
        "new_x = np.array([1, -0.8, 0.8])   # new observation (-0.8, 0.8)  with an intercept of 1\n",
        "print(new_x)\n",
        "preds_prob_new_x = calc_h(new_x, theta).round()\n",
        "print(\"predicted output for the new observation: \", preds_prob_new_x)"
      ]
    },
    {
      "cell_type": "markdown",
      "metadata": {
        "id": "w_MUfGeEesfN"
      },
      "source": [
        "## Plot the decision boundary"
      ]
    },
    {
      "cell_type": "code",
      "execution_count": null,
      "metadata": {
        "colab": {
          "base_uri": "https://localhost:8080/",
          "height": 562
        },
        "id": "iVGCKVxjesfN",
        "outputId": "624a637d-854b-4bba-c8aa-c39d5f556d01"
      },
      "outputs": [
        {
          "output_type": "execute_result",
          "data": {
            "text/plain": [
              "(-0.5787617147305777, 3.540154992249955)"
            ]
          },
          "metadata": {},
          "execution_count": 15
        },
        {
          "output_type": "display_data",
          "data": {
            "text/plain": [
              "<Figure size 1000x600 with 1 Axes>"
            ],
            "image/png": "[encoded data removed]"
          },
          "metadata": {}
        }
      ],
      "source": [
        "plt.figure(figsize=(10, 6))\n",
        "\n",
        "# define 2d grid\n",
        "x1_min, x1_max = X[:,0].min(), X[:,0].max(),\n",
        "x2_min, x2_max = X[:,1].min(), X[:,1].max(),\n",
        "xx1, xx2 = np.meshgrid(np.linspace(x1_min, x1_max), np.linspace(x2_min, x2_max))\n",
        "grid = np.c_[xx1.ravel(), xx2.ravel()]\n",
        "\n",
        "# make predictions on the grid\n",
        "grid = add_intercept(grid)\n",
        "probs = calc_h(grid, theta)\n",
        "probs = probs.reshape(xx1.shape)\n",
        "\n",
        "# plot contours\n",
        "ax = plt.gca()\n",
        "plt.contourf(xx1, xx2, probs, levels=25, cmap=plt.cm.Spectral, alpha=0.8)\n",
        "plt.contour(xx1, xx2, probs, [0.5], linewidths=2, colors='black') # decision boundary at 0.5\n",
        "plt.scatter(X[:, 0], X[:, 1], c=y.ravel(), s=40, cmap=plt.cm.Spectral, edgecolors='black')\n",
        "plt.plot(-0.8, 0.8, 'bx', markersize=20, markeredgewidth=2)  # new observation correctly classified as 1 (blue)\n",
        "\n",
        "plt.xlabel(\"$X_1$\")\n",
        "plt.ylabel(\"$X_2$\")\n",
        "ax.set_xlim([x1_min, x1_max])\n",
        "ax.set_ylim([x2_min, x2_max])"
      ]
    },
    {
      "cell_type": "markdown",
      "metadata": {
        "id": "Fdp3WSZjesfN"
      },
      "source": [
        "## Sklearn implementation"
      ]
    },
    {
      "cell_type": "markdown",
      "metadata": {
        "id": "42zMIEUHesfN"
      },
      "source": [
        "Of course, logistic regression is already implemented in Scikit-learn."
      ]
    },
    {
      "cell_type": "code",
      "execution_count": null,
      "metadata": {
        "colab": {
          "base_uri": "https://localhost:8080/"
        },
        "id": "ERkZH5kTesfN",
        "outputId": "99421272-ce5a-4102-b175-3d0c22a0d4f3"
      },
      "outputs": [
        {
          "output_type": "stream",
          "name": "stdout",
          "text": [
            "Score Sklearn: 1.0\n",
            "[0.28039163] [[-19.36311726  -4.16377615]]\n"
          ]
        }
      ],
      "source": [
        "model = LogisticRegression(C=1e20, solver='lbfgs')\n",
        "model.fit(X, y)\n",
        "preds = model.predict(X)\n",
        "\n",
        "score_sklearn = (preds == y).mean()\n",
        "print('Score Sklearn: {}'.format(score_sklearn))\n",
        "print(model.intercept_, model.coef_)"
      ]
    },
    {
      "cell_type": "code",
      "execution_count": null,
      "metadata": {
        "id": "C8VwksrHesfa"
      },
      "outputs": [],
      "source": []
    }
  ],
  "metadata": {
    "kernelspec": {
      "display_name": "Python 3",
      "language": "python",
      "name": "python3"
    },
    "language_info": {
      "codemirror_mode": {
        "name": "ipython",
        "version": 3
      },
      "file_extension": ".py",
      "mimetype": "text/x-python",
      "name": "python",
      "nbconvert_exporter": "python",
      "pygments_lexer": "ipython3",
      "version": "3.6.8"
    },
    "colab": {
      "provenance": []
    }
  },
  "nbformat": 4,
  "nbformat_minor": 0
}